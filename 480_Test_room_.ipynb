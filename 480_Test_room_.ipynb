{
  "cells": [
    {
      "cell_type": "markdown",
      "metadata": {
        "id": "oCy6tC27aImW"
      },
      "source": [
        "# Getting started:\n",
        " First things first we need to actually get the book data into the file.Google collab is session based. meaning files you upload get removed when you leave\n",
        "\n",
        "\n"
      ]
    },
    {
      "cell_type": "code",
      "execution_count": null,
      "metadata": {
        "colab": {
          "background_save": true,
          "base_uri": "https://localhost:8080/"
        },
        "id": "xT3E_gC2Q461",
        "outputId": "0ffd63f1-34a5-4dfa-e908-e0354e7a6ec5"
      },
      "outputs": [
        {
          "name": "stdout",
          "output_type": "stream",
          "text": [
            "Mounted at /COSC-480\n",
            "Buffered data was truncated after reaching the output size limit."
          ]
        }
      ],
      "source": [
        "\n",
        "# mounts google drive to colab session. starting at enterypoint COSC-480\n",
        "from google.colab import drive\n",
        "drive.mount('/COSC-480', force_remount= True)\n",
        "\n",
        "#imports we need\n",
        "import pandas as pd\n",
        "import numpy as np\n",
        "import csv\n",
        "\n",
        "\n",
        "\n",
        "filepath = '/COSC-480/Shareddrives/COSC-480/COSC-480 Project/archive/books_data.csv'\n",
        "\n",
        "\"\"\"\n",
        "another method that reads file into array (might be useful)\n",
        "but with our data set it crashes the website\n",
        "something neat to keep in mind though.\n",
        "\n",
        "result =[]\n",
        "\n",
        "with open(filepath, 'r') as file:\n",
        "  csvreader = csv.reader(file)\n",
        "  for row in csvreader:\n",
        "    result.append(row)\n",
        "\n",
        "print(result)\"\"\"\n",
        "\n",
        "# sets our var to the book_data file at this file path\n",
        "df = pd.read_csv(filepath)\n"
      ]
    },
    {
      "cell_type": "markdown",
      "metadata": {
        "id": "d3VuDevsRFfA"
      },
      "source": [
        "# Working with data:\n",
        "\n"
      ]
    },
    {
      "cell_type": "code",
      "execution_count": null,
      "metadata": {
        "id": "9maJysy9b5J-"
      },
      "outputs": [],
      "source": [
        "# you cant print the data easily\n",
        "print(df)"
      ]
    },
    {
      "cell_type": "code",
      "source": [
        "# this will show all colums, and the number of not null times in each colum\n",
        "df.info()"
      ],
      "metadata": {
        "colab": {
          "base_uri": "https://localhost:8080/"
        },
        "id": "_4_vX5fOjIXd",
        "outputId": "9b82834e-ac35-4c4c-b54c-77ff1d105411"
      },
      "execution_count": 58,
      "outputs": [
        {
          "output_type": "stream",
          "name": "stdout",
          "text": [
            "<class 'pandas.core.frame.DataFrame'>\n",
            "Index: 41696 entries, 5 to 212402\n",
            "Data columns (total 10 columns):\n",
            " #   Column         Non-Null Count  Dtype  \n",
            "---  ------         --------------  -----  \n",
            " 0   Title          41696 non-null  object \n",
            " 1   description    41696 non-null  object \n",
            " 2   authors        41696 non-null  object \n",
            " 3   image          41696 non-null  object \n",
            " 4   previewLink    41696 non-null  object \n",
            " 5   publisher      41696 non-null  object \n",
            " 6   publishedDate  41696 non-null  object \n",
            " 7   infoLink       41696 non-null  object \n",
            " 8   categories     41696 non-null  object \n",
            " 9   ratingsCount   41696 non-null  float64\n",
            "dtypes: float64(1), object(9)\n",
            "memory usage: 3.5+ MB\n"
          ]
        }
      ]
    },
    {
      "cell_type": "code",
      "execution_count": null,
      "metadata": {
        "id": "MW3gBynvcTBv"
      },
      "outputs": [],
      "source": [
        "# you can also use print head/ tail to print the first x or last x items\n",
        "df.head()\n"
      ]
    },
    {
      "cell_type": "code",
      "execution_count": null,
      "metadata": {
        "id": "nf-ko4wtb78C"
      },
      "outputs": [],
      "source": [
        "# and heres the tail\n",
        "df.tail()"
      ]
    },
    {
      "cell_type": "code",
      "execution_count": 59,
      "metadata": {
        "id": "uS5M8fGPcYzZ",
        "colab": {
          "base_uri": "https://localhost:8080/"
        },
        "outputId": "a78b842e-4c78-418b-84d4-82817d265b9a"
      },
      "outputs": [
        {
          "output_type": "stream",
          "name": "stdout",
          "text": [
            "                                                    Title\n",
            "0                          Its Only Art If Its Well Hung!\n",
            "1                                Dr. Seuss: American Icon\n",
            "2                   Wonderful Worship in Smaller Churches\n",
            "3                           Whispers of the Wicked Saints\n",
            "4       Nation Dance: Religion, Identity and Cultural ...\n",
            "...                                                   ...\n",
            "212399  The Orphan Of Ellis Island (Time Travel Advent...\n",
            "212400                            Red Boots for Christmas\n",
            "212401                                              Mamaw\n",
            "212402                                  The Autograph Man\n",
            "212403  Student's Solutions Manual for Johnson/Mowry's...\n",
            "\n",
            "[212404 rows x 1 columns]\n"
          ]
        }
      ],
      "source": [
        "# we can also get any column we want. this will also work if we want more colums\n",
        "# just have to add a , and then the same format as before\n",
        "df = pd.read_csv(filepath, usecols=[\"Title\"])\n",
        "print(df)"
      ]
    },
    {
      "cell_type": "markdown",
      "metadata": {
        "id": "nPQ2Mcs7f7In"
      },
      "source": [
        "#  we can also change null values, remove then and much much more\n",
        "Notice how we can change all the NaN values of description"
      ]
    },
    {
      "cell_type": "code",
      "execution_count": null,
      "metadata": {
        "id": "IlRKaJLGeRNw"
      },
      "outputs": [],
      "source": [
        "# Notice all the NaNs in the description\n",
        "df.head()\n"
      ]
    },
    {
      "cell_type": "code",
      "execution_count": null,
      "metadata": {
        "id": "o9q-c6hVgC4l"
      },
      "outputs": [],
      "source": [
        "# Here we change all not avalable items in description do whatever we want\n",
        "df[\"description\"].fillna(\"No description\", inplace = True)\n",
        "df.head()\n"
      ]
    },
    {
      "cell_type": "code",
      "execution_count": null,
      "metadata": {
        "id": "uQ3d_00CgqhO"
      },
      "outputs": [],
      "source": [
        "\n",
        "# We can also do this to remove colums we dont want\n",
        "No_rateing = df.drop(\"ratingsCount\", axis='columns')\n",
        "No_rateing.head()"
      ]
    },
    {
      "cell_type": "code",
      "source": [
        "# then this to remove ANY rows with a NA value\n",
        "df = df.dropna()\n",
        "df.info()"
      ],
      "metadata": {
        "id": "f5oOpeygjt99"
      },
      "execution_count": null,
      "outputs": []
    }
  ],
  "metadata": {
    "colab": {
      "provenance": []
    },
    "kernelspec": {
      "display_name": "Python 3",
      "name": "python3"
    },
    "language_info": {
      "name": "python"
    }
  },
  "nbformat": 4,
  "nbformat_minor": 0
}