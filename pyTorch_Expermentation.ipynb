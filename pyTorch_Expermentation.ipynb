{
  "nbformat": 4,
  "nbformat_minor": 0,
  "metadata": {
    "colab": {
      "provenance": []
    },
    "kernelspec": {
      "name": "python3",
      "display_name": "Python 3"
    },
    "language_info": {
      "name": "python"
    }
  },
  "cells": [
    {
      "cell_type": "code",
      "execution_count": null,
      "metadata": {
        "colab": {
          "base_uri": "https://localhost:8080/"
        },
        "id": "Eb7hI9O1Q8nC",
        "outputId": "91a1cf9c-864d-4416-9fe3-069ca0359241"
      },
      "outputs": [
        {
          "output_type": "stream",
          "name": "stdout",
          "text": [
            "Epoch [10/30], Loss: 1.2876\n",
            "Epoch [20/30], Loss: 1.1405\n",
            "Epoch [30/30], Loss: 1.0959\n",
            "Accuracy: 37.50%\n"
          ]
        }
      ],
      "source": [
        "# Adapted from Lecture 8 Code\n",
        "\n",
        "from sklearn.model_selection import train_test_split\n",
        "from sklearn.preprocessing import StandardScaler\n",
        "import torch\n",
        "import torch.nn as nn\n",
        "import torch.optim as optim\n",
        "from torch.utils.data import TensorDataset, DataLoader\n",
        "from sklearn.metrics import accuracy_score\n",
        "import pandas as pd\n",
        "\n",
        "#Upload the fakeTestDataset.csv file to google collab\n",
        "df = pd.read_csv('fakeTestDataset.csv')\n",
        "\n",
        "#Using a dictionary made adapting from the iris set program easier\n",
        "madeUpData = {\n",
        "    #Uses the pandas dataframe to assign the first 3 columns as a nested list\n",
        "    'data': df.iloc[:, :3].values.tolist(),\n",
        "    #Uses the pandas dataframe to assign the output index column\n",
        "    'target': df['Book Index'].values.tolist()\n",
        "}\n",
        "\n",
        "X, y = madeUpData['data'], madeUpData['target'] ## Dataset Size X 5 ## Dataset Size X 1\n",
        "\n",
        "                                                     ## 20% of the dataset\n",
        "X_train, X_test, y_train, y_test = train_test_split(X, y, test_size = 0.2, random_state=42)\n",
        "\n",
        "scaler = StandardScaler()\n",
        "\n",
        "X_train = scaler.fit_transform(X_train) # uses mean and standard deviation of the data to move the data\n",
        "X_test = scaler.transform(X_test)\n",
        "\n",
        "X_train = torch.tensor(X_train, dtype = torch.float32)\n",
        "y_train = torch.tensor(y_train, dtype = torch.long)\n",
        "X_test = torch.tensor(X_test, dtype = torch.float32)\n",
        "y_test = torch.tensor(y_test, dtype = torch.long) # Long used because other functions will be expecting it\n",
        "\n",
        "class MLP(nn.Module):\n",
        "  def __init__(self, input_size, hidden_size, num_classes):\n",
        "    super().__init__()\n",
        "    self.fc1 = nn.Linear(input_size, hidden_size)\n",
        "    self.relu = nn.ReLU()\n",
        "    self.fc2 = nn.Linear(hidden_size, num_classes)\n",
        "\n",
        "  def forward(self, x):\n",
        "    out = self.fc1(x)\n",
        "    out = self.relu(out)\n",
        "    out = self.fc2(out)\n",
        "    return out\n",
        "\n",
        "input_size = X_train.shape[1] # 3\n",
        "hidden_size = 8 # just left this number for now\n",
        "num_classes = 4 # 4 possible books as outputs\n",
        "model = MLP(input_size, hidden_size, num_classes)\n",
        "\n",
        "criterion = nn.CrossEntropyLoss()\n",
        "\n",
        "#Adam optimizer with a learning rate of 0.001\n",
        "optimizer = optim.Adam(model.parameters(), lr = 0.001)\n",
        "\n",
        "batch_size = 8 # left alone for now\n",
        "train_dataset = TensorDataset(X_train, y_train)\n",
        "train_loader = DataLoader(train_dataset, batch_size = batch_size, shuffle = True)\n",
        "\n",
        "#30 epochs was randomly assigned for now\n",
        "num_epochs = 30\n",
        "for epoch in range(num_epochs):\n",
        "  for batch_X, batch_y in train_loader: # Process each batch separately\n",
        "\n",
        "    # Forward pass\n",
        "    outputs = model(batch_X)\n",
        "    loss = criterion(outputs, batch_y)\n",
        "    # Backward pass and optimization\n",
        "    optimizer.zero_grad()\n",
        "    loss.backward()\n",
        "    optimizer.step()\n",
        "\n",
        "  if (epoch+1) % 10 == 0:\n",
        "    print(f'Epoch [{epoch+1}/{num_epochs}], Loss: {loss.item():.4f}')\n",
        "with torch.no_grad():\n",
        "  outputs = model(X_test)\n",
        "  _, predicted = torch.max(outputs, 1)\n",
        "\n",
        "accuracy = accuracy_score(y_test, predicted)\n",
        "print(f'Accuracy: {accuracy * 100:.2f}%')\n",
        "\n"
      ]
    },
    {
      "cell_type": "code",
      "source": [
        "#Little test for pandas\n",
        "import pandas as pd\n",
        "\n",
        "df = pd.read_csv('fakeTestDataset.csv')\n",
        "\n",
        "combined_row_data = df['Book Index'].values.tolist()\n",
        "print(combined_row_data)"
      ],
      "metadata": {
        "colab": {
          "base_uri": "https://localhost:8080/"
        },
        "id": "brgZPKWqz1-R",
        "outputId": "c83d731d-4efe-411f-92f1-157764ed6650"
      },
      "execution_count": null,
      "outputs": [
        {
          "output_type": "stream",
          "name": "stdout",
          "text": [
            "[0, 0, 0, 0, 0, 0, 0, 0, 0, 0, 1, 1, 1, 1, 1, 1, 1, 1, 1, 1, 2, 2, 2, 2, 2, 2, 2, 2, 2, 2, 3, 3, 3, 3, 3, 3, 3, 3, 3, 3]\n"
          ]
        }
      ]
    },
    {
      "cell_type": "code",
      "source": [],
      "metadata": {
        "id": "6Wia7ueus0YM"
      },
      "execution_count": null,
      "outputs": []
    }
  ]
}